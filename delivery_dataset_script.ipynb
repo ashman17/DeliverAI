{
  "nbformat": 4,
  "nbformat_minor": 0,
  "metadata": {
    "colab": {
      "provenance": [],
      "collapsed_sections": [
        "AhiY2OQK3DBP",
        "eV8ruVKS3FQz",
        "5M2n92MH3MhF",
        "EZcjS6PniJRf",
        "X81lMHG3sGlI",
        "soRriLgiU8Lc",
        "QDv17eaWxSpf",
        "t66ynXI7xdiM",
        "HlUV8wFQzsmK",
        "H0Zmmi0Ruwg8",
        "u7oNUWSaEbM9",
        "i_1lVUMiyuL3",
        "z4iLJwZEnZ7K",
        "YEYlyDRFnffI",
        "RaLcq1wGnsg_"
      ],
      "authorship_tag": "ABX9TyNoPHHzt7gcYSsJptWq1OZ1"
    },
    "kernelspec": {
      "name": "python3",
      "display_name": "Python 3"
    },
    "language_info": {
      "name": "python"
    }
  },
  "cells": [
    {
      "cell_type": "markdown",
      "source": [
        "## Imports and Installs"
      ],
      "metadata": {
        "id": "BWDzbPs2CVwy"
      }
    },
    {
      "cell_type": "markdown",
      "source": [
        "### Installs\n",
        "No need to install OSMPythonTools as it is no longer used."
      ],
      "metadata": {
        "id": "AhiY2OQK3DBP"
      }
    },
    {
      "cell_type": "code",
      "execution_count": null,
      "metadata": {
        "id": "KtcM1-kcyKjS"
      },
      "outputs": [],
      "source": [
        "!pip3 install OSMPythonTools"
      ]
    },
    {
      "cell_type": "markdown",
      "source": [
        "### Imports"
      ],
      "metadata": {
        "id": "eV8ruVKS3FQz"
      }
    },
    {
      "cell_type": "code",
      "source": [
        "from OSMPythonTools.api import Api"
      ],
      "metadata": {
        "id": "nFCyvBP43HSK"
      },
      "execution_count": null,
      "outputs": []
    },
    {
      "cell_type": "code",
      "source": [
        "import geopandas as gpd"
      ],
      "metadata": {
        "id": "J7BBxlXwhM86"
      },
      "execution_count": null,
      "outputs": []
    },
    {
      "cell_type": "code",
      "source": [
        "import pandas as pd\n",
        "import json\n",
        "import csv\n",
        "import os\n",
        "import logging\n",
        "import matplotlib.pyplot as plt\n",
        "from matplotlib.lines import Line2D\n",
        "import numpy as np\n",
        "from shapely.geometry import Point, Polygon\n",
        "import requests\n",
        "import time\n",
        "from google.colab import drive"
      ],
      "metadata": {
        "id": "EXiJpuNQhC1i"
      },
      "execution_count": null,
      "outputs": []
    },
    {
      "cell_type": "markdown",
      "source": [
        "## Connecting to Drive"
      ],
      "metadata": {
        "id": "5M2n92MH3MhF"
      }
    },
    {
      "cell_type": "markdown",
      "source": [
        "We first mount the drive. This step requires permission to be given. Running the cell should open a permission page to allow colab access to google drive."
      ],
      "metadata": {
        "id": "yw5o4gNr9yuB"
      }
    },
    {
      "cell_type": "code",
      "source": [
        "drive.mount('/content/gdrive/', force_remount=True)"
      ],
      "metadata": {
        "id": "B0Ema9It3Lh8",
        "colab": {
          "base_uri": "https://localhost:8080/"
        },
        "outputId": "fd5073b3-67e5-467a-fd9a-f9665b4dc24e"
      },
      "execution_count": null,
      "outputs": [
        {
          "output_type": "stream",
          "name": "stdout",
          "text": [
            "Mounted at /content/gdrive/\n"
          ]
        }
      ]
    },
    {
      "cell_type": "markdown",
      "source": [
        "Setting the file directory to the data folder. All files will be referenced to this working directory."
      ],
      "metadata": {
        "id": "9AbGj4tFxhh0"
      }
    },
    {
      "cell_type": "code",
      "source": [
        "data_dir = \"./gdrive/MyDrive/RL Delivery Data\"\n",
        "\n",
        "# See directory content\n",
        "data = os.listdir(data_dir)\n",
        "print(\"Files in directory : \", data)"
      ],
      "metadata": {
        "id": "jQOBIAWMF9cw",
        "colab": {
          "base_uri": "https://localhost:8080/"
        },
        "outputId": "d3419633-d66a-4a0c-8159-43591da66fef"
      },
      "execution_count": null,
      "outputs": [
        {
          "output_type": "stream",
          "name": "stdout",
          "text": [
            "Files in directory :  ['Hotspot Data', 'Original Location Data', 'Processed Location Data', 'Census Data', 'Results', 'distance_matrix.npy', 'time_matrix.npy', 'Q_boltzman.npy', 'Results Images', 'Q_epsilon.npy', 'Delivery Data', 'avg_hotspot_data.json', 'avg_intra_hotspot_location_data.json', 'avg_time_hotspot_location_data.npy', 'avg_distance_hotspot_location_data.npy', 'min_time_hotspot_location_data.npy', 'min_distance_hotspot_location_data.npy', 'max_time_hotspot_location_data.npy', 'max_distance_hotspot_location_data.npy']\n"
          ]
        }
      ]
    },
    {
      "cell_type": "markdown",
      "source": [
        "# Pickup and Drop Locations\n",
        "Using OSM, we can query locations that are suited for our study. We need those locations which can either provide food or act as a potential drop location for a customer. Thse locations can be queried using Overpass API that uses the OSM data. While it is possible to use the OSMPythonTools for queries the data uses python scripts, it is easier to query and visualise data from Overpass Turbo and directly download the data from the site in the `.geojson` format. The latter has been used for this notebook. These data files are stored in `Original Data` folder."
      ],
      "metadata": {
        "id": "EZcjS6PniJRf"
      }
    },
    {
      "cell_type": "markdown",
      "source": [
        "### Data Distribution\n",
        "In OSM, these locations are rendered as `ammenities` and `building`. Detailed infomration can be found on the OSM wiki page - [Map Features](https://https://wiki.openstreetmap.org/wiki/Map_features)\n",
        "\n",
        "<br>\n",
        "\n",
        "The following `ammenties` / `buildings` are chosen as pickup locations:\n",
        "\n",
        "| Type | Number of Locations |\n",
        "| -------- | -------- |\n",
        "| restaurant | 2189 |\n",
        "| cafe | 741 |\n",
        "| fast_food | 1243 |\n",
        "| food_court | 15 |\n",
        "| bakery | 364 |\n",
        "| supermarket | 261 |\n",
        "| **TOTAL** | **4813** |\n",
        "\n",
        "<br>\n",
        "\n",
        "The following `ammenties` / `buildings` are chosen as drop locations:\n",
        "\n",
        "| Type | Number of Locations |\n",
        "| -------- | -------- |\n",
        "| residential | 5043 |\n",
        "| apartments | 3302 |\n",
        "| house | 1949 |\n",
        "| detached | 750 |\n",
        "| hotel | 131 |\n",
        "| office | 590 |\n",
        "| universty | 368 |\n",
        "| college | 50 |\n",
        "| dormitory | 64 |\n",
        "| hospital | 105 |\n",
        "| community_centre | 41 |\n",
        "| **TOTAL** | **12393** |"
      ],
      "metadata": {
        "id": "A094R2LGuuRA"
      }
    },
    {
      "cell_type": "markdown",
      "source": [
        "### Approach 1: Using `.json` and OSM API\n",
        "**[WARNING]** Depricated Approach, Do Not Run\n",
        "<br>\n",
        "Storing location coordinates of each pickup and drop point. The following implementation uses the OSM API to fetch the coordinates of the first `node` of the `way` as the approximate location of the `way`. However this is **NOT** an effecient way as the `node` information is akready stored within the file. But here for an example the pickup point data is fetched using API."
      ],
      "metadata": {
        "id": "X81lMHG3sGlI"
      }
    },
    {
      "cell_type": "code",
      "source": [
        "# loading directotry of raw pickup locations\n",
        "pick_data_dir = data_dir + \"/Original Location Data/Pickup Point Data/\"\n",
        "pick_files = os.listdir(pick_data_dir)\n",
        "\n",
        "# to ignore the \"downloading data\" warning given by OSM tools\n",
        "logging.getLogger(\"OSMPythonTools\").setLevel(logging.ERROR)\n",
        "\n",
        "# initialising OSM API instance to search for lat and lon\n",
        "api = Api()\n",
        "\n",
        "for file_name in pick_files:\n",
        "  file_dir = pick_data_dir + file_name\n",
        "\n",
        "  with open(file_dir, \"r\") as file:\n",
        "    data = json.load(file)\n",
        "    print(file_dir)\n",
        "    elements = data[\"elements\"]\n",
        "\n",
        "  loc_data = {}\n",
        "\n",
        "  print(\"Starting \", file_name)\n",
        "  count = 0;\n",
        "\n",
        "  for element in elements:\n",
        "    if (element[\"type\"] != \"way\"):\n",
        "        break\n",
        "\n",
        "    result = api.query(\"way/\" + str(element[\"id\"]))\n",
        "    lat = result.nodes()[0].lat()\n",
        "    lon = result.nodes()[0].lon()\n",
        "    loc_data[element[\"id\"]] = {\n",
        "        \"apx:lat\": lat,\n",
        "        \"apx:lon\": lon\n",
        "    }\n",
        "\n",
        "    count +=1\n",
        "    print(f\"\\r{count} locations completed\", end=\"\")\n",
        "\n",
        "  # Serializing json\n",
        "  json_object = json.dumps(loc_data, indent=4)\n",
        "\n",
        "  # making file name for storing lat long of all `ways`.\n",
        "  new_file_dir = file_dir[:-13]\n",
        "  new_file_dir += \"location_data.json\"\n",
        "\n",
        "  print(\"\\nWriting into file\")\n",
        "  # writing into new file\n",
        "  with open(new_file_dir, \"w\") as file:\n",
        "      file.write(json_object)\n",
        "\n",
        "  print(\"Completed \", file_name)\n"
      ],
      "metadata": {
        "id": "0tpR9mIVGUY6"
      },
      "execution_count": null,
      "outputs": []
    },
    {
      "cell_type": "markdown",
      "source": [
        "**[WARNING]** Do not run this cell. This is a depriocated approach.\n",
        "Running this can cause deletion of files or unwanted alters to files. <br>\n",
        "The larger drop points data can be populated using the node data within the downloaded file only. This is much faster (takes only a couple of seconds). The following code can be modified for pickup points also for fast processing.\n",
        "<br>\n",
        "However this is **still ineffecient**. Storing the data in `.geojson` allows to use the data as data frames in Geo Pandas library where we can use their in-built methods."
      ],
      "metadata": {
        "id": "REcZCD3Aswml"
      }
    },
    {
      "cell_type": "code",
      "source": [
        "# loading directotry of raw drop locations\n",
        "drop_data_dir = data_dir + \"/Original Location Data/Drop Point Data/\"\n",
        "drop_files = os.listdir(drop_data_dir)\n",
        "\n",
        "for file_name in drop_files:\n",
        "  file_dir = drop_data_dir + file_name\n",
        "\n",
        "  with open(file_dir, \"r\") as file:\n",
        "    data = json.load(file)\n",
        "    print(file_dir)\n",
        "    elements = data[\"elements\"]\n",
        "\n",
        "  loc_data = dict()\n",
        "  node_loc = dict()\n",
        "\n",
        "  print(\"Starting \", file_name)\n",
        "  count = 0;\n",
        "\n",
        "  for element in elements:\n",
        "    if (element[\"type\"] == \"node\"):\n",
        "      node_loc[element[\"id\"]] = {\n",
        "          \"lat\" : element[\"lat\"],\n",
        "          \"lon\" : element[\"lon\"]\n",
        "      }\n",
        "\n",
        "  for element in elements:\n",
        "    if (element[\"type\"] == \"way\"):\n",
        "\n",
        "      loc_data[element[\"id\"]] = {\n",
        "            \"apx:lat\": node_loc[element[\"nodes\"][0]][\"lat\"],\n",
        "            \"apx:lon\": node_loc[element[\"nodes\"][0]][\"lon\"]\n",
        "        }\n",
        "\n",
        "\n",
        "  # Serializing json\n",
        "  json_object = json.dumps(loc_data, indent=4)\n",
        "\n",
        "  # making file name for storing lat long of all `ways`.\n",
        "  new_file_dir = file_dir[:-13]\n",
        "  new_file_dir += \"location_data.json\"\n",
        "\n",
        "  print(\"\\nWriting into file\")\n",
        "  # writing into new file\n",
        "  with open(new_file_dir, \"w\") as file:\n",
        "      file.write(json_object)\n",
        "\n",
        "  print(\"Completed \", file_name)"
      ],
      "metadata": {
        "id": "J9U8wmXUncUa"
      },
      "execution_count": null,
      "outputs": []
    },
    {
      "cell_type": "markdown",
      "source": [
        "### Approach 2: Using `.geojson` and GeoPandas\n",
        "\n",
        "Geojson provides easy and effecient to handle geo data. It has only one main requirement - every data frame element needs to have an attribute that contains geometry objects. Usually it is named as `geometry` or needs to be specified seperately if the name is different."
      ],
      "metadata": {
        "id": "soRriLgiU8Lc"
      }
    },
    {
      "cell_type": "markdown",
      "source": [
        "First drop unnecessary attributes. The Census Tract data contains many attributes that are not necessary for our analysis. We drop these columns to avoid storing excess data and taking extra time for computing queries. This becomes specially important when we have to perform joins among data frames."
      ],
      "metadata": {
        "id": "t9VDovxE8hc6"
      }
    },
    {
      "cell_type": "code",
      "source": [
        "census_dir = data_dir + \"/Census Data/Census Tracts 2010.geojson\"\n",
        "census_df = gpd.read_file(census_dir)\n",
        "\n",
        "census_df = census_df.drop('statefp10', axis=1)\n",
        "census_df = census_df.drop('name10', axis=1)\n",
        "census_df = census_df.drop('commarea_n', axis=1)\n",
        "census_df = census_df.drop('namelsad10', axis=1)\n",
        "census_df = census_df.drop('commarea', axis=1)\n",
        "census_df = census_df.drop('geoid10', axis=1)\n",
        "census_df = census_df.drop('notes', axis=1)\n",
        "census_df = census_df.drop('countyfp10', axis=1)\n",
        "\n",
        "census_df.to_file(data_dir + \"/Census Data/census_tract_data.geojson\", driver=\"GeoJSON\")"
      ],
      "metadata": {
        "id": "2d0vgx1B8evF"
      },
      "execution_count": null,
      "outputs": []
    },
    {
      "cell_type": "markdown",
      "source": [
        "Like MySQL, GeoPandas also provides join operations on data frames using the geometry attribute. Doing a left-join on the locations and census tracts assigns every selected location to a census tract.\n",
        "Also after joining the 2 data frames, uneccessary attributes from the OSM data are dropped. This significantly reduced file size (by almost 10 times in most cases!)\n",
        "<br>\n",
        "<br>\n",
        "_Note: Throughout this notebook, the census tract ID is named as `tractce10` following the convension of the 2010 Census Tract Data taken from [Chicago Data Portal](https://data.cityofchicago.org/Facilities-Geographic-Boundaries/Boundaries-Census-Tracts-2010/5jrd-6zik)_"
      ],
      "metadata": {
        "id": "BV8_Vd8lwpHq"
      }
    },
    {
      "cell_type": "code",
      "source": [
        "census_dir = data_dir + \"/Census Data/census_tract_data.geojson\"\n",
        "census_df = gpd.read_file(census_dir)\n",
        "\n",
        "# loading directotry of raw pickup locations\n",
        "pick_data_dir = data_dir + \"/Original Location Data/Pickup Point Data/\"\n",
        "pick_files = os.listdir(pick_data_dir)\n",
        "\n",
        "for file_name in pick_files:\n",
        "  file_dir = pick_data_dir + file_name\n",
        "  file_df = gpd.read_file(file_dir)\n",
        "\n",
        "  join_left_df = file_df.sjoin(census_df, how=\"left\")\n",
        "\n",
        "  for column in join_left_df.columns.tolist():\n",
        "    if (column not in [\"@id\", \"name\", \"geometry\", \"amenity\", \"building\", \"shop\", \"tractce10\"]):\n",
        "      join_left_df = join_left_df.drop(column, axis=1)\n",
        "\n",
        "  # making file name for storing lat long of all locations\n",
        "  new_file_dir = data_dir + \"/Processed Location Data/Pickup Point Data/\" + file_name\n",
        "  new_file_dir = new_file_dir[:-16]\n",
        "  new_file_dir += \"location_data.geojson\"\n",
        "\n",
        "  join_left_df.to_file(new_file_dir, driver=\"GeoJSON\")"
      ],
      "metadata": {
        "id": "IvOtP-LfU7gH"
      },
      "execution_count": null,
      "outputs": []
    },
    {
      "cell_type": "code",
      "source": [
        "census_dir = data_dir + \"/Census Data/census_tract_data.geojson\"\n",
        "census_df = gpd.read_file(census_dir)\n",
        "\n",
        "# loading directotry of raw drop locations\n",
        "drop_data_dir = data_dir + \"/Original Location Data/Drop Point Data/\"\n",
        "drop_files = os.listdir(drop_data_dir)\n",
        "\n",
        "for file_name in drop_files:\n",
        "  file_dir = drop_data_dir + file_name\n",
        "  file_df = gpd.read_file(file_dir)\n",
        "\n",
        "  join_left_df = file_df.sjoin(census_df, how=\"left\")\n",
        "\n",
        "  for column in join_left_df.columns.tolist():\n",
        "    if (column not in [\"@id\", \"name\", \"geometry\", \"amenity\", \"building\", \"shop\", \"tractce10\"]):\n",
        "      join_left_df = join_left_df.drop(column, axis=1)\n",
        "\n",
        "  # making file name for storing lat long of all locations\n",
        "  new_file_dir = data_dir + \"/Processed Location Data/Drop Point Data/\" + file_name\n",
        "  new_file_dir = new_file_dir[:-16]\n",
        "  new_file_dir += \"location_data.geojson\"\n",
        "\n",
        "  join_left_df.to_file(new_file_dir, driver=\"GeoJSON\")"
      ],
      "metadata": {
        "id": "WK0n2DxTj8wS"
      },
      "execution_count": null,
      "outputs": []
    },
    {
      "cell_type": "markdown",
      "source": [
        "# Sorting Data\n",
        "\n",
        "Now that we have the cenus tract each loacation belongs to, it is advisable to store the locations of each census tract seperately. This will help in organising the data by census tract ID. The `amenity`, `building` and `shop` attributes will help in identifying the type of any location.\n",
        "\n",
        "Locations in the Drop Points are all `ways`. However in the pickup points, they can be a `way` as well as a `node`. The geometry of a `way` is a `Polygon` whereas for `node` it is `Point`. The following code handles both types together. For detailed info about `ways` and `nodes`, kindly read the official wiki docs on [Elements](https://wiki.openstreetmap.org/wiki/Elements)."
      ],
      "metadata": {
        "id": "QDv17eaWxSpf"
      }
    },
    {
      "cell_type": "code",
      "source": [
        "census_data = dict()\n",
        "\n",
        "# loading directotry of sorted by type pickup locations\n",
        "pick_data_dir = data_dir + \"/Processed Location Data/Pickup Point Data/\"\n",
        "pick_files = os.listdir(pick_data_dir)\n",
        "print(\"Files for Pickup Points Data: \",pick_files)\n",
        "\n",
        "for file_name in pick_files:\n",
        "  file_dir = pick_data_dir + file_name\n",
        "\n",
        "  with open(file_dir, 'r') as f:\n",
        "    data = json.load(f)[\"features\"]\n",
        "\n",
        "    for element in data:\n",
        "      properties = element[\"properties\"]\n",
        "      tract = properties[\"tractce10\"]\n",
        "      amenity = None\n",
        "      building = None\n",
        "      shop = None\n",
        "\n",
        "      if \"amenity\" in properties.keys():\n",
        "        amenity = properties[\"amenity\"]\n",
        "      if \"building\" in properties.keys():\n",
        "        building = properties[\"building\"]\n",
        "      if \"shop\" in properties.keys():\n",
        "        shop = properties[\"shop\"]\n",
        "\n",
        "      if (element[\"geometry\"][\"type\"] == \"Polygon\"):\n",
        "        coordinates = element[\"geometry\"][\"coordinates\"][0]\n",
        "        latitude = np.mean([point[1] for point in coordinates])\n",
        "        longitude = np.mean([point[0] for point in coordinates])\n",
        "\n",
        "      elif (element[\"geometry\"][\"type\"] == \"Point\"):\n",
        "        latitude = element[\"geometry\"][\"coordinates\"][1]\n",
        "        longitude = element[\"geometry\"][\"coordinates\"][0]\n",
        "\n",
        "      if tract not in census_data.keys():\n",
        "        census_data[tract] = []\n",
        "\n",
        "      census_data[tract].append({\n",
        "            \"id\" : properties[\"id\"],\n",
        "            \"amenity\" : amenity,\n",
        "            \"building\" : building,\n",
        "            \"shop\": shop,\n",
        "            \"lat\" : latitude,\n",
        "            \"lon\" : longitude\n",
        "        })"
      ],
      "metadata": {
        "id": "b6vsly_0e35V"
      },
      "execution_count": null,
      "outputs": []
    },
    {
      "cell_type": "markdown",
      "source": [
        "Repeating the same for drop locations"
      ],
      "metadata": {
        "id": "vPkMbNRKnUVW"
      }
    },
    {
      "cell_type": "code",
      "source": [
        "# loading directotry of sorted by type drop locations\n",
        "drop_data_dir = data_dir + \"/Processed Location Data/Drop Point data/\"\n",
        "drop_files = os.listdir(drop_data_dir)\n",
        "print(\"Files for Drop Points Data: \",drop_files)\n",
        "\n",
        "for file_name in drop_files:\n",
        "  file_dir = drop_data_dir + file_name\n",
        "\n",
        "  with open(file_dir, 'r') as f:\n",
        "    data = json.load(f)[\"features\"]\n",
        "\n",
        "    for element in data:\n",
        "      properties = element[\"properties\"]\n",
        "      tract = properties[\"tractce10\"]\n",
        "      amenity = None\n",
        "      building = None\n",
        "      shop = None\n",
        "\n",
        "      if \"amenity\" in properties.keys():\n",
        "        amenity = properties[\"amenity\"]\n",
        "      if \"building\" in properties.keys():\n",
        "        building = properties[\"building\"]\n",
        "      if \"shop\" in properties.keys():\n",
        "        shop = properties[\"shop\"]\n",
        "\n",
        "      coordinates = element[\"geometry\"][\"coordinates\"][0]\n",
        "      latitude = np.mean([point[1] for point in coordinates])\n",
        "      longitude = np.mean([point[0] for point in coordinates])\n",
        "\n",
        "      if tract not in census_data.keys():\n",
        "        census_data[tract] = []\n",
        "\n",
        "      census_data[tract].append({\n",
        "            \"id\" : properties[\"id\"],\n",
        "            \"amenity\" : amenity,\n",
        "            \"building\" : building,\n",
        "            \"shop\": shop,\n",
        "            \"lat\" : latitude,\n",
        "            \"lon\" : longitude\n",
        "        })"
      ],
      "metadata": {
        "id": "h7FM4yzcaNrc"
      },
      "execution_count": null,
      "outputs": []
    },
    {
      "cell_type": "markdown",
      "source": [
        "This final cell writes the data into a `.json`"
      ],
      "metadata": {
        "id": "3SrjRfarnSB3"
      }
    },
    {
      "cell_type": "code",
      "source": [
        "json_object = json.dumps(census_data, indent=4)\n",
        "\n",
        "with open (data_dir + \"/Census Data/census_tract_wise_locations.json\", 'w') as f:\n",
        "  f.write(json_object)"
      ],
      "metadata": {
        "id": "neYNOXHwRJmy"
      },
      "execution_count": null,
      "outputs": []
    },
    {
      "cell_type": "markdown",
      "source": [
        "# Analysing Data\n",
        "Here we plot and analyse the loacations and census tracts to get visuals on the distribution of out data."
      ],
      "metadata": {
        "id": "t66ynXI7xdiM"
      }
    },
    {
      "cell_type": "markdown",
      "source": [
        "Plotting all the location on the chicago city map."
      ],
      "metadata": {
        "id": "6L69AkJexhic"
      }
    },
    {
      "cell_type": "code",
      "source": [
        "census_dir = data_dir + \"/Census Data/census_tract_data.geojson\"\n",
        "census_df = gpd.read_file(census_dir)\n",
        "\n",
        "with open(data_dir + \"/Census Data/census_tract_wise_locations.json\", 'r') as f:\n",
        "  data = json.load(f)\n",
        "\n",
        "pickup_points = []\n",
        "drop_points = []\n",
        "\n",
        "for census_tract in data:\n",
        "  for location in data[census_tract]:\n",
        "    if (location['shop'] in [\"supermarket\",\"bakery\"] or location['amenity'] in [\"restaurant\",\"cafe\",\"fast_food\",\"food_court\"]):\n",
        "      pickup_points.append(Point(location[\"lon\"],location[\"lat\"]))\n",
        "    else:\n",
        "      drop_points.append(Point(location[\"lon\"],location[\"lat\"]))\n",
        "\n",
        "pickup_df = gpd.GeoSeries(pickup_points, crs='EPSG:4326')\n",
        "drop_df = gpd.GeoSeries(drop_points, crs='EPSG:4326')\n",
        "\n",
        "tract = gpd.GeoSeries(census_df.loc[:].geometry)"
      ],
      "metadata": {
        "id": "OfuNxrCGb1oI"
      },
      "execution_count": null,
      "outputs": []
    },
    {
      "cell_type": "code",
      "source": [
        "size = (20,20)\n",
        "base = tract.plot(color=\"white\", edgecolor=\"gray\", figsize = size)\n",
        "pickup_layer = pickup_df.plot(ax=base, marker='o', color='green', markersize=2, figsize = size)\n",
        "drop_layer = drop_df.plot(ax=pickup_layer, marker='o', color='blue', markersize=1, figsize = size)\n",
        "drop_layer.plot()"
      ],
      "metadata": {
        "id": "q87fRucHnNFY"
      },
      "execution_count": null,
      "outputs": []
    },
    {
      "cell_type": "code",
      "source": [
        "census_dir = data_dir + \"/Census Data/census_tract_data.geojson\"\n",
        "census_df = gpd.read_file(census_dir)\n",
        "\n",
        "tract_id = list()\n",
        "tract_geometry = list()\n",
        "count = 0\n",
        "\n",
        "for i in range(len(census_df)):\n",
        "  if (census_df.loc[i]['tractce10']) in selected_tracts:\n",
        "    count+=1\n",
        "    tract_id.append(census_df.loc[i]['tractce10'])\n",
        "    tract_geometry.append(census_df.loc[i].geometry)\n",
        "\n",
        "selected_df = gpd.GeoDataFrame({'tractce10':tract_id, 'geometry': tract_geometry}, crs='EPSG:4326')\n",
        "\n",
        "hotspot_dir = data_dir + \"/Hotspot Data/selected_hotspot_data.geojson\"\n",
        "hotspot_locations = gpd.read_file(hotspot_dir, crs='EPSG:4326')\n",
        "\n",
        "size = (12,12)\n",
        "tract = gpd.GeoSeries(selected_df.loc[:].geometry)\n",
        "base = tract.plot(color=\"white\", edgecolor=\"gray\", figsize=size)\n",
        "hotspot_locations.plot(ax = base, marker='o', color='red', markersize=5, figsize=size)"
      ],
      "metadata": {
        "id": "eRdXh3n-lH8t"
      },
      "execution_count": null,
      "outputs": []
    },
    {
      "cell_type": "markdown",
      "source": [
        "Plotting Census Tracts with labels."
      ],
      "metadata": {
        "id": "hXnSIOX9y05R"
      }
    },
    {
      "cell_type": "code",
      "source": [
        "# Load census tract data\n",
        "census_dir = data_dir + \"/Census Data/census_tract_data.geojson\"\n",
        "census_df = gpd.read_file(census_dir)\n",
        "\n",
        "# Set up the plot\n",
        "fig, ax = plt.subplots(figsize=(50, 50))\n",
        "\n",
        "# Plot the census tracts and add labels\n",
        "base = census_df.plot(ax=ax, edgecolor='#DBC8C2', facecolor=\"#DBC8C2\", linewidth=2, alpha=0.5)\n",
        "# census_df.apply(lambda x: ax.text(x.geometry.centroid.x, x.geometry.centroid.y, x['tractce10'], fontsize=5, ha='center'), axis=1)\n",
        "\n",
        "hotspot_dir = data_dir + \"/Hotspot Data/hotspot_data.geojson\"\n",
        "hotspot_locations = gpd.read_file(hotspot_dir, crs='EPSG:4326')\n",
        "\n",
        "hotspot_locations.plot(ax = base, marker='o', color='#c80000ff', markersize=60)\n",
        "\n",
        "# Set the axis limits and title\n",
        "ax.set_xlim([census_df.total_bounds[0], census_df.total_bounds[2]])\n",
        "ax.set_ylim([census_df.total_bounds[1], census_df.total_bounds[3]])\n",
        "ax.set_title('Census Tracts in Chicago with Hotspot Locations', fontsize = 45)\n",
        "ax.set_xlabel('Latitude', fontsize = 40)\n",
        "ax.set_ylabel('Longitude', fontsize = 40)\n",
        "\n",
        "legend_lines = [Line2D([0], [0], marker='o', markersize=25, markeredgewidth=5, color='#c80000ff', linestyle='None')]\n",
        "ax.legend(legend_lines, ['Hotpot Location'], loc=(0.8,0.95), fontsize=30)\n",
        "\n",
        "# Show the plot\n",
        "plt.show()"
      ],
      "metadata": {
        "id": "wKHL1WymHzWk"
      },
      "execution_count": null,
      "outputs": []
    },
    {
      "cell_type": "markdown",
      "source": [
        "Plotting sample census tracts alomng with potential locations of the hotspots. The `blue` marker shows the center of the cernsus tract whereas the `purple` marker shows the center of the location in the census tract.\n",
        "<br>\n",
        "In most cases, the centyer of the tarct and the center of the locations are very close. But in many cases the center of locations within the census tract is better than the center of the census tract in the following ways:\n",
        "\n",
        "1. Clearly the distribution within the census tract is not uniform. In most of the tracts, the locations are localised to a particular region. Because of this the center of the tract is quite far from most locations.\n",
        "\n",
        "2. In irregulary shaped tracts, the center of the census tract can lie outside the tract which is not acceptable. The center of the locations, however, stays inside the tract."
      ],
      "metadata": {
        "id": "xnmHBn-cxih4"
      }
    },
    {
      "cell_type": "code",
      "source": [
        "census_dir = data_dir + \"/Census Data/census_tract_data.geojson\"\n",
        "census_df = gpd.read_file(census_dir)\n",
        "\n",
        "with open(data_dir + \"/Census Data/census_tract_wise_locations.json\", 'r') as f:\n",
        "  data = json.load(f)\n",
        "\n",
        "sample = [\"220902\",\"833000\",\"220901\",\"320100\",\"320600\",\"281900\",\"221100\",\"842200\",\"841900\"]\n",
        "\n",
        "cols = 3\n",
        "rows = 3\n",
        "fig, axs = plt.subplots(nrows = rows, ncols=cols, figsize=(12, 12))\n",
        "\n",
        "for index in range(len(sample)):\n",
        "  census_tract = sample[index]\n",
        "  pickup_points = []\n",
        "  drop_points = []\n",
        "  lat = []\n",
        "  lon = []\n",
        "  for location in data[census_tract]:\n",
        "    if (location['shop'] in [\"supermarket\",\"bakery\"] or location['amenity'] in [\"restaurant\",\"cafe\",\"fast_food\",\"food_court\"]):\n",
        "      pickup_points.append(Point(location[\"lon\"],location[\"lat\"]))\n",
        "    else:\n",
        "      drop_points.append(Point(location[\"lon\"],location[\"lat\"]))\n",
        "    lat.append(location[\"lat\"])\n",
        "    lon.append(location[\"lon\"])\n",
        "\n",
        "  lat = pd.Series(lat)\n",
        "  lon = pd.Series(lon)\n",
        "  hotspot_lat = lat.mean()\n",
        "  hotspot_lon = lon.mean()\n",
        "  locations_mean = gpd.GeoSeries(Point(hotspot_lon,hotspot_lat))\n",
        "\n",
        "  for i in range(801):\n",
        "    if int((census_df.loc[i])[\"tractce10\"]) == int(census_tract):\n",
        "      tract = gpd.GeoSeries(census_df.loc[i].geometry)\n",
        "      break\n",
        "\n",
        "  pickup_locations = gpd.GeoSeries(pickup_points, crs='EPSG:4326')\n",
        "  drop_locations = gpd.GeoSeries(drop_points, crs='EPSG:4326')\n",
        "  tract = gpd.GeoSeries(tract.geometry)\n",
        "\n",
        "  base = tract.plot(ax = axs[int((index)/cols)][index%cols], color=\"white\", edgecolor=\"gray\")\n",
        "  layer1 = pickup_locations.plot(ax=base, marker='o', color='blue', markersize=1)\n",
        "  layer2 = drop_locations.plot(ax=layer1, marker='o', color='red', markersize=1)\n",
        "  # layer3 = tract.centroid.plot(ax=layer2, marker='x', color='orange', markersize=100)\n",
        "  locations_mean.plot(ax=layer2, marker='x', color='black', markersize=70)\n",
        "\n",
        "\n",
        "  axs[int((index)/cols)][index%cols].tick_params(axis='x', which='both', labelsize=7, rotation=90)\n",
        "  axs[int((index)/cols)][index%cols].tick_params(axis='y', which='both', labelsize=7)\n",
        "  axs[int((index)/cols)][index%cols].set_xlabel('Longitude')\n",
        "  axs[int((index)/cols)][index%cols].set_ylabel('Latitude')\n",
        "  axs[int((index)/cols)][index%cols].set_title('Census Tract: ' + str(sample[index]), fontsize = 10)\n",
        "\n",
        "legend_lines = [Line2D([0], [0], marker='x', markersize=9, markeredgewidth=2, color='black', linestyle='None'),\n",
        "                Line2D([0], [0], marker='o', markersize=7, markeredgewidth=1, color='blue', linestyle='None'),\n",
        "                Line2D([0], [0], marker='o', markersize=7, markeredgewidth=1, color='red', linestyle='None')]\n",
        "fig.legend(legend_lines, ['Hotpot Location', 'Pick-up Location', 'Drop-off Location'], loc=(0.45,0.68), fontsize=10)\n",
        "\n",
        "plt.subplots_adjust(wspace=0.4, hspace=0.1)\n",
        "plt.savefig(data_dir + \"/Results Images/census_tract_data_point_distribution.png\", dpi=300)"
      ],
      "metadata": {
        "colab": {
          "base_uri": "https://localhost:8080/",
          "height": 966
        },
        "id": "uG4v_e_CzLUi",
        "outputId": "2994cb15-389a-4ddd-cc6e-1b83258a6f43"
      },
      "execution_count": null,
      "outputs": [
        {
          "output_type": "display_data",
          "data": {
            "text/plain": [
              "<Figure size 1200x1200 with 9 Axes>"
            ],
            "image/png": "[encoded data removed]"
          },
          "metadata": {}
        }
      ]
    },
    {
      "cell_type": "markdown",
      "source": [
        "# Finding Hotspot Locations\n",
        "Based on the analysis, the hotspot location is chosen as center (mean) of the location within the tract. We first store these locations in a seperate `.geojson` file"
      ],
      "metadata": {
        "id": "HlUV8wFQzsmK"
      }
    },
    {
      "cell_type": "code",
      "source": [
        "with open(data_dir + \"/Census Data/census_tract_wise_locations.json\", 'r') as f:\n",
        "  data = json.load(f)\n",
        "\n",
        "tract_id = list()\n",
        "hotspot_geometry = list()\n",
        "num_locations = list()\n",
        "\n",
        "for census_tract in data:\n",
        "  lat = []\n",
        "  lon = []\n",
        "  for point in data[census_tract]:\n",
        "    lat.append(point[\"lat\"])\n",
        "    lon.append(point[\"lon\"])\n",
        "\n",
        "  lat = pd.Series(lat)\n",
        "  lon = pd.Series(lon)\n",
        "  hotspot_lat = lat.mean()\n",
        "  hotspot_lon = lon.mean()\n",
        "\n",
        "  tract_id.append(census_tract)\n",
        "  hotspot_geometry.append(Point(hotspot_lon,hotspot_lat))\n",
        "  num_locations.append(len(data[census_tract]))\n",
        "\n",
        "\n",
        "tract_gdf = gpd.GeoDataFrame({'tractce10': tract_id, 'geometry': hotspot_geometry, 'locations': num_locations}, crs='EPSG:4326')\n",
        "tract_gdf.to_file(data_dir + '/Hotspot Data/hotspot_data.geojson', driver='GeoJSON')"
      ],
      "metadata": {
        "id": "7Q_YJpeS_7wW"
      },
      "execution_count": null,
      "outputs": []
    },
    {
      "cell_type": "markdown",
      "source": [
        "Plotting the hotspot locations on Chicago Map."
      ],
      "metadata": {
        "id": "uIuaPXh6yScl"
      }
    },
    {
      "cell_type": "code",
      "source": [
        "census_dir = data_dir + \"/Census Data/census_tract_data.geojson\"\n",
        "census_df = gpd.read_file(census_dir, crs='EPSG:4326')\n",
        "\n",
        "hotspot_dir = data_dir + \"/Hotspot Data/hotspot_data.geojson\"\n",
        "hotspot_locations = gpd.read_file(hotspot_dir, crs='EPSG:4326')\n",
        "\n",
        "size = (15,15)\n",
        "tract = gpd.GeoSeries(census_df.loc[:].geometry)\n",
        "base = tract.plot(color=\"white\", edgecolor=\"gray\", figsize=size)\n",
        "hotspot_locations.plot(ax = base, marker='x', color='black', markersize=5, figsize=size)"
      ],
      "metadata": {
        "id": "FDGI8WQhsHm1"
      },
      "execution_count": null,
      "outputs": []
    },
    {
      "cell_type": "markdown",
      "source": [
        "We then make `csv` file to store the frequency of locations within each hotspot."
      ],
      "metadata": {
        "id": "mLHvdZGkyajn"
      }
    },
    {
      "cell_type": "code",
      "source": [
        "with open (data_dir + \"/Census Data/census_tract_wise_locations.json\", 'r') as f:\n",
        "  data = json.load(f)\n",
        "\n",
        "with open (data_dir + \"/Census Data/census_frequency.csv\", 'w') as f:\n",
        "  writer = csv.writer(f)\n",
        "  for census_tract in data:\n",
        "    writer.writerow([census_tract,len(data[census_tract])])"
      ],
      "metadata": {
        "id": "J6IrEY2y7N_G"
      },
      "execution_count": null,
      "outputs": []
    },
    {
      "cell_type": "markdown",
      "source": [
        "## Finding Neighbouring Hotspots"
      ],
      "metadata": {
        "id": "H0Zmmi0Ruwg8"
      }
    },
    {
      "cell_type": "code",
      "source": [
        "hotspot_dir = data_dir + \"/Hotspot Data/hotspot_data.geojson\"\n",
        "hotspot_locations = gpd.read_file(hotspot_dir, crs='EPSG:4326')\n",
        "\n",
        "projected_hotspots = hotspot_locations.to_crs('EPSG:4326')\n",
        "distances = projected_hotspots.distance(projected_hotspots.shift())\n",
        "print(distances[4])"
      ],
      "metadata": {
        "colab": {
          "base_uri": "https://localhost:8080/"
        },
        "id": "Vqs40aYIuvhP",
        "outputId": "04649ee7-f6ca-4806-9d53-102b79b9390e"
      },
      "execution_count": null,
      "outputs": [
        {
          "output_type": "stream",
          "name": "stdout",
          "text": [
            "0.020314700967126727\n"
          ]
        },
        {
          "output_type": "stream",
          "name": "stderr",
          "text": [
            "<ipython-input-6-9912c0144e2c>:5: UserWarning: Geometry is in a geographic CRS. Results from 'distance' are likely incorrect. Use 'GeoSeries.to_crs()' to re-project geometries to a projected CRS before this operation.\n",
            "\n",
            "  distances = projected_hotspots.distance(projected_hotspots.shift())\n"
          ]
        }
      ]
    },
    {
      "cell_type": "markdown",
      "source": [
        "# Selecting Hotspots\n",
        "There are a total of `801` Census Tracts in the 2010 census data. Out of these `727` do not have any locations relevant to our research. Out of these too, `416` tracts have 10 or less locations. This makes these unvaviable to be chosen as hotspot locations."
      ],
      "metadata": {
        "id": "xJnbhTqMDBCU"
      }
    },
    {
      "cell_type": "markdown",
      "source": [
        "## Approach 1: Using density/frequncy to select Hotspots\n",
        "\n",
        "Using a density or frequency based method to select hotspots fails as it selects hotspots that are spread over a large area with empty patches in between. This will pose a problem for full coverage as well as make the working area for the model too large to be computationally feasible."
      ],
      "metadata": {
        "id": "u7oNUWSaEbM9"
      }
    },
    {
      "cell_type": "code",
      "source": [
        "census_dir = data_dir + \"/Census Data/census_tract_data.geojson\"\n",
        "census_df = gpd.read_file(census_dir)\n",
        "\n",
        "hotspot_dir = data_dir + \"/Hotspot Data/hotspot_data.geojson\"\n",
        "hotspot_df = gpd.read_file(hotspot_dir)\n",
        "\n",
        "census_df['tractce10'] = census_df['tractce10'].astype('string')\n",
        "hotspot_df['tractce10'] = hotspot_df['tractce10'].astype('string')\n",
        "\n",
        "merged_df = census_df.merge(hotspot_df, on='tractce10')\n",
        "merged_df = gpd.GeoDataFrame(merged_df, geometry='geometry_x')\n",
        "\n",
        "tracts_geometry = []\n",
        "selected_tracts = []\n",
        "count = 0\n",
        "\n",
        "avg_density = 0\n",
        "for i in range(len(merged_df)):\n",
        "  avg_density += float(merged_df.loc[i, \"locations\"]) / float(merged_df.loc[i, \"geometry_x\"].area)\n",
        "\n",
        "avg_density = avg_density/len(merged_df)\n",
        "\n",
        "for i in range(len(merged_df)):\n",
        "  density = float(merged_df.loc[i, \"locations\"]) / float(merged_df.loc[i, \"geometry_x\"].area)\n",
        "  if  density > 200000 :\n",
        "    count += 1\n",
        "    selected_tracts.append(hotspot_df.loc[i, \"tractce10\"])\n",
        "    tracts_geometry.append(census_df.loc[i].geometry)\n",
        "\n",
        "print(count)\n",
        "\n",
        "selected_df = gpd.GeoDataFrame({'tractce10': selected_tracts, 'geometry': tracts_geometry}, crs='EPSG:4326')\n",
        "\n",
        "size = (15,15)\n",
        "selected_df.plot(color=\"white\", edgecolor=\"black\", figsize=size)"
      ],
      "metadata": {
        "id": "onLMDbERYOu5"
      },
      "execution_count": null,
      "outputs": []
    },
    {
      "cell_type": "code",
      "source": [
        "with open (data_dir + \"/Census Data/census_frequency.csv\", 'r') as f:\n",
        "  reader = csv.reader(f)\n",
        "  for line in reader:\n",
        "    if line[0] != \"null\" and int(line[0]) in selected_tracts:\n",
        "      print(line)"
      ],
      "metadata": {
        "id": "ErIKSNeCwV8k"
      },
      "execution_count": null,
      "outputs": []
    },
    {
      "cell_type": "markdown",
      "source": [
        "## Approach 2: Selecting only a part of the city\n",
        "Cherry picking the census tracts to be used for training works better."
      ],
      "metadata": {
        "id": "i_1lVUMiyuL3"
      }
    },
    {
      "cell_type": "markdown",
      "source": [
        "### SET 1"
      ],
      "metadata": {
        "id": "z4iLJwZEnZ7K"
      }
    },
    {
      "cell_type": "code",
      "source": [
        "# SET\n",
        "selected_tracts = [\n",
        "    '030101', '030102', '030103', '030104', '030601', '030603', '030604', '030701', '030703', '030706', '030800', '030900', '031000', '031100', '031200', '031300', '031400', '031501', '031502', '031700', '031800', '031900', '032100', '040100', '040201', '040202', '040401', '040402', '040600', '040700', '040800', '040900', '050100', '050200', '050300', '050500', '050600', '050700', '050800', '050900', '051000', '051100', '051200', '051300', '051400', '060100', '060200', '060300', '060400', '060500', '060800', '060900', '061000', '061100', '061200', '061500', '061800', '061901', '061902', '062000', '062100', '062200', '062300', '062400', '062500', '062600', '062700', '062800', '062900', '063000', '063100', '063200', '063301', '063302', '063303', '063400', '070101', '070102', '070103', '070200', '070300', '070400', '070500', '070600', '070700', '071000', '071100', '071200', '071300', '071400', '071500', '071600', '071700', '071800', '080100', '080201', '080202', '080300', '080400', '081000', '081100', '081201', '081202', '081300', '081401', '081402', '081403', '081500', '081600', '081700', '081800', '081900', '140100', '140200', '140301', '140302', '140601', '140602', '140701', '140702', '140800', '160400', '160501', '160502', '160601', '160602', '160700', '160800', '160900', '210100', '210501', '210502', '210601', '210602', '210700', '210800', '210900', '220300', '220400', '220500', '220601', '220602', '220701', '220702', '220901', '220902', '221000', '221100', '221200', '221300', '221400', '221500', '221600', '222200', '222500', '222600', '222700', '222800', '222900', '230100', '230200', '230300', '230400', '240200', '240300', '240500', '240600', '240700', '240800', '241000', '241100', '241200', '241300', '241400', '241500', '241600', '242000', '242100', '242200', '242300', '242400', '242500', '242600', '242800', '242900', '243000', '243100', '243200', '243300', '243400', '243500', '280100', '280400', '280800', '280900', '281900', '282700', '282800', '283100', '283200', '283800', '310200', '310300', '310400', '310500', '310600', '310700', '310800', '310900', '320100', '320400', '320600', '330100', '330200', '340300', '340400', '340500', '350100', '350400', '351000', '351100', '351400', '351500', '360200', '380100', '380200', '380700', '381200', '381400', '381500', '390100', '390200', '390300', '390400', '390500', '390600', '390700', '410100', '410200', '410500', '410600', '410700', '410800', '410900', '411000', '411100', '411200', '420100', '420200', '420300', '420400', '600400', '600600', '600700', '600900', '830700', '830800', '830900', '831000', '831100', '831800', '831900', '832000', '832100', '832200', '832300', '832400', '832500', '832600', '832900', '833000', '833100', '833300', '835800', '835900', '836000', '836200', '836300', '836400', '836500', '837800', '838000', '838100', '838200', '838300', '839000', '839100', '839200', '839500', '839600', '839700', '839800', '839900', '840000', '840100', '840200', '841000', '841100', '841200', '841300', '841900', '842000', '842200', '842300', '842900', '843200', '843600', '843700'\n",
        "]\n",
        "\n",
        "print(len(selected_tracts))\n",
        "print(len(set(selected_tracts)))\n"
      ],
      "metadata": {
        "id": "5wBDs_BIflhE",
        "colab": {
          "base_uri": "https://localhost:8080/"
        },
        "outputId": "90b113a0-b0a5-4eb4-ad10-42ffea0603da"
      },
      "execution_count": null,
      "outputs": [
        {
          "output_type": "stream",
          "name": "stdout",
          "text": [
            "308\n",
            "308\n"
          ]
        }
      ]
    },
    {
      "cell_type": "markdown",
      "source": [
        "### SET 2"
      ],
      "metadata": {
        "id": "YEYlyDRFnffI"
      }
    },
    {
      "cell_type": "markdown",
      "source": [
        "The following `ammenties` / `buildings` are chosen as pickup locations for running the model:\n",
        "\n",
        "| Type | Number of Locations |\n",
        "| -------- | -------- |\n",
        "| restaurant | 1578 |\n",
        "| cafe | 507 |\n",
        "| fast_food | 518 |\n",
        "| food_court | 7 |\n",
        "| bakery | 145 |\n",
        "| supermarket | 87 |\n",
        "| **TOTAL** | **2842** |\n",
        "\n",
        "<br>\n",
        "\n",
        "The following `ammenties` / `buildings` are chosen as drop locations for running the model:\n",
        "\n",
        "| Type | Number of Locations |\n",
        "| -------- | -------- |\n",
        "| residential | 4185 |\n",
        "| apartments | 2364 |\n",
        "| house | 449 |\n",
        "| detached | 280 |\n",
        "| hotel | 105 |\n",
        "| office | 435 |\n",
        "| university | 141 |\n",
        "| college | 30 |\n",
        "| dormitory | 20 |\n",
        "| hospital | 59 |\n",
        "| community_center | 9 |\n",
        "| **TOTAL** | **8077** |"
      ],
      "metadata": {
        "id": "f0iOVR1RnW_8"
      }
    },
    {
      "cell_type": "code",
      "source": [
        "# SET 2\n",
        "selected_tracts = [\n",
        "    '030101', '030102', '030601', '030603', '030604', '030701', '030702', '030703', '030706', '030800', '030900', '031000', '031100', '031200', '031300', '031400', '031501', '031502', '031700', '031800', '031900', '032100', '040201', '040202', '040401', '040402', '040600', '040700', '040800', '040900', '050100', '050200', '050300', '050500', '050600', '050700', '050800', '050900', '051000', '051100', '051200', '051300', '051400', '060100', '060200', '060300', '060400', '060500', '060800', '060900', '061000', '061100', '061200', '061500', '061800', '061901', '061902', '062000', '062100', '062200', '062300', '062400', '062500', '062600', '062700', '062800', '062900', '063000', '063100', '063200', '063301', '063302', '063303', '063400', '070101', '070102', '070103', '070200', '070300', '070400', '070500', '070600', '070700', '071000', '071100', '071200', '071300', '071400', '071500', '071600', '071700', '071800', '080100', '080201', '080202', '080300', '080400', '081000', '081100', '081201', '081202', '081300', '081401', '081402', '081403', '081500', '081600', '081700', '081800', '081900', '220300', '220400', '220500', '220601', '220602', '220701', '220901', '220902', '221000', '221100', '221200', '221300', '221400', '221500', '221600', '222200', '222500', '222600', '222700', '222800', '222900', '230100', '230200', '230300', '240200', '240300', '240500', '240600', '240700', '240800', '241000', '241100', '241200', '241300', '241400', '241500', '241600', '242000', '242100', '242200', '242300', '242400', '242500', '242600', '242800', '242900', '243000', '243100', '243200', '243300', '243400', '243500', '280100', '280400', '280800', '280900', '281900', '282700', '282800', '283100', '283200', '283800', '320100', '320400', '320600', '330100', '330200', '830700', '830800', '830900', '831000', '831900', '832000', '832100', '832200', '832300', '832400', '832500', '832600', '832900', '833000', '833100', '833300', '837800', '838000', '838100', '838200', '838300', '839000', '839100', '841900', '842200', '842300', '842900', '843700'\n",
        "]\n",
        "\n",
        "print(len(selected_tracts))\n",
        "print(len(set(selected_tracts)))\n"
      ],
      "metadata": {
        "colab": {
          "base_uri": "https://localhost:8080/"
        },
        "id": "LqYXwwEAc9Gw",
        "outputId": "b76cd498-6a4b-45e4-9c57-ecae04699d14"
      },
      "execution_count": null,
      "outputs": [
        {
          "output_type": "stream",
          "name": "stdout",
          "text": [
            "205\n",
            "205\n"
          ]
        }
      ]
    },
    {
      "cell_type": "markdown",
      "source": [
        "### SET 3"
      ],
      "metadata": {
        "id": "RaLcq1wGnsg_"
      }
    },
    {
      "cell_type": "code",
      "source": [
        "# SET 3\n",
        "selected_tracts = [\n",
        "    '842200', '080400', '080300', '080201', '080202', '080100', '081202', '838300', '081000', '081100', '081201', '081300', '081401', '081402', '081403', '081500', '081600', '081700', '081800', '081900'\n",
        "]\n",
        "\n",
        "print(len(selected_tracts))\n",
        "print(len(set(selected_tracts)))"
      ],
      "metadata": {
        "colab": {
          "base_uri": "https://localhost:8080/"
        },
        "id": "SZmDzYItnvAG",
        "outputId": "86aff196-d479-4ce6-f6a4-b7eb8ad9dcd1"
      },
      "execution_count": null,
      "outputs": [
        {
          "output_type": "stream",
          "name": "stdout",
          "text": [
            "20\n",
            "20\n"
          ]
        }
      ]
    },
    {
      "cell_type": "markdown",
      "source": [
        "### Analysing Selection"
      ],
      "metadata": {
        "id": "GZyBocVUnmw4"
      }
    },
    {
      "cell_type": "code",
      "source": [
        "with open(data_dir + \"/Census Data/census_tract_wise_locations.json\",'r') as f:\n",
        "  data = json.load(f)\n",
        "\n",
        "frequency = dict()\n",
        "\n",
        "for tract in selected_tracts:\n",
        "  for location in data[tract]:\n",
        "\n",
        "    if location['amenity'] in frequency.keys():\n",
        "      frequency[location['amenity']] += 1\n",
        "    else:\n",
        "      frequency[location['amenity']] = 1\n",
        "\n",
        "    if location['building'] in frequency.keys():\n",
        "      frequency[location['building']] += 1\n",
        "    else:\n",
        "      frequency[location['building']] = 1\n",
        "\n",
        "    if location['shop'] in frequency.keys():\n",
        "      frequency[location['shop']] += 1\n",
        "    else:\n",
        "      frequency[location['shop']] = 1\n",
        "\n",
        "for key in frequency.keys():\n",
        "  print(key, frequency[key])"
      ],
      "metadata": {
        "id": "SW9xMzEiKGgK"
      },
      "execution_count": null,
      "outputs": []
    },
    {
      "cell_type": "code",
      "source": [
        "with open(data_dir + \"/Census Data/census_tract_wise_locations.json\",'r') as f:\n",
        "  data = json.load(f)\n",
        "\n",
        "count = dict()\n",
        "\n",
        "for tract in selected_tracts:\n",
        "  if len(data[tract]) in count.keys():\n",
        "    count[len(data[tract])] += 1\n",
        "  else :\n",
        "     count[len(data[tract])] = 1\n",
        "\n",
        "for key in count.keys():\n",
        "  print(key, count[key])"
      ],
      "metadata": {
        "id": "lJS6olf_XAOt"
      },
      "execution_count": null,
      "outputs": []
    },
    {
      "cell_type": "code",
      "source": [
        "hotspot_dir = data_dir + \"/Hotspot Data/hotspot_data.geojson\"\n",
        "hotspot_df = gpd.read_file(hotspot_dir)\n",
        "\n",
        "selected_hotspot_tractce10 = []\n",
        "selected_hotspot_locations = []\n",
        "selected_hotspot_geometry = []\n",
        "\n",
        "for i in range(len(hotspot_df)):\n",
        "  if hotspot_df.loc[i][\"tractce10\"] in selected_tracts:\n",
        "    selected_hotspot_tractce10.append(hotspot_df.loc[i][\"tractce10\"])\n",
        "    selected_hotspot_locations.append(hotspot_df.loc[i][\"locations\"])\n",
        "    selected_hotspot_geometry.append(hotspot_df.loc[i][\"geometry\"])\n",
        "\n",
        "index = [i for i in range(len(selected_hotspot_tractce10))]\n",
        "\n",
        "selected_hotspot_df = gpd.GeoDataFrame({\"index\":index, \"tractce10\":selected_hotspot_tractce10, \"locations\":selected_hotspot_locations, \"geometry\":selected_hotspot_geometry}, crs='EPSG:4326')\n",
        "\n",
        "selected_hotspot_df.sort_values(by=\"tractce10\")\n",
        "\n",
        "selected_hotspot_dir = data_dir + \"/Hotspot Data/selected_hotspot_data.geojson\"\n",
        "selected_hotspot_df.to_file(selected_hotspot_dir, driver=\"GeoJSON\")\n"
      ],
      "metadata": {
        "id": "6kxBhex9RwRG"
      },
      "execution_count": null,
      "outputs": []
    },
    {
      "cell_type": "code",
      "source": [
        "census_dir = data_dir + \"/Census Data/census_tract_data.geojson\"\n",
        "census_df = gpd.read_file(census_dir)\n",
        "\n",
        "tract_id = list()\n",
        "tract_geometry = list()\n",
        "count = 0\n",
        "\n",
        "for i in range(len(census_df)):\n",
        "  if (census_df.loc[i]['tractce10']) in selected_tracts:\n",
        "    count+=1\n",
        "    tract_id.append(census_df.loc[i]['tractce10'])\n",
        "    tract_geometry.append(census_df.loc[i].geometry)\n",
        "\n",
        "selected_df = gpd.GeoDataFrame({'tractce10':tract_id, 'geometry': tract_geometry}, crs='EPSG:4326')\n",
        "\n",
        "hotspot_dir = data_dir + \"/Hotspot Data/selected_hotspot_data.geojson\"\n",
        "hotspot_locations = gpd.read_file(hotspot_dir, crs='EPSG:4326')\n",
        "\n",
        "size = (12,12)\n",
        "tract = gpd.GeoSeries(selected_df.loc[:].geometry)\n",
        "base = tract.plot(color=\"white\", edgecolor=\"gray\", figsize=size)\n",
        "hotspot_locations.plot(ax = base, marker='o', color='red', markersize=5, figsize=size)\n"
      ],
      "metadata": {
        "id": "qlu2VXbzGJFM"
      },
      "execution_count": null,
      "outputs": []
    },
    {
      "cell_type": "markdown",
      "source": [
        "# Getting Adjacency Matrix"
      ],
      "metadata": {
        "id": "KDkeitgX8iGx"
      }
    },
    {
      "cell_type": "code",
      "source": [
        "points = []\n",
        "\n",
        "selected_hotspot_dir = data_dir + \"/Hotspot Data/selected_hotspot_data.geojson\"\n",
        "selected_hotspot_df = gpd.read_file(selected_hotspot_dir)\n",
        "selected_hotspot_df = selected_hotspot_df.sort_values(by='index')\n",
        "\n",
        "for i in range(len(selected_hotspot_df)):\n",
        "  hotspot = selected_hotspot_df.loc[i]\n",
        "  # print(hotspot['index'], hotspot['tractce10'])\n",
        "  point = str(hotspot.geometry.y) + \",\" + str(hotspot.geometry.x)\n",
        "  points.append(point)\n",
        "\n",
        "print(points)"
      ],
      "metadata": {
        "id": "QLb-npTMCxxc"
      },
      "execution_count": null,
      "outputs": []
    },
    {
      "cell_type": "code",
      "source": [
        "url = \"https://graphhopper.com/api/1/matrix\"\n",
        "\n",
        "max_limit = 80\n",
        "\n",
        "x_start = 0\n",
        "x_end = max_limit\n",
        "y_start = 0\n",
        "y_end = max_limit\n",
        "\n",
        "while x_start < len(points):\n",
        "  y_start = 0\n",
        "  y_end = max_limit\n",
        "\n",
        "  while y_start < len(points):\n",
        "\n",
        "    query = {\n",
        "      \"profile\": \"scooter_delivery\",\n",
        "      \"from_point\": points[x_start:x_end],\n",
        "      \"to_point\": points[y_start:y_end],\n",
        "      \"out_array\": [\"distances\",\"times\",\"weights\"],\n",
        "      \"fail_fast\": \"true\",\n",
        "      \"key\": \"81759ba7-6e63-4c3e-8692-bb40797bfab2\"\n",
        "    }\n",
        "\n",
        "    response = requests.get(url, params=query)\n",
        "    data = response.json()\n",
        "\n",
        "    if y_start == 0:\n",
        "      row_distances = np.array(data['distances'])\n",
        "      row_times = np.array(data['times'])\n",
        "      row_weights = np.array(data['weights'])\n",
        "    else:\n",
        "      row_distances = np.concatenate((row_distances,np.array(data['distances'])), axis=1)\n",
        "      row_times = np.concatenate((row_times,np.array(data['times'])), axis=1)\n",
        "      row_weights = np.concatenate((row_weights,np.array(data['weights'])), axis=1)\n",
        "\n",
        "    y_start = y_end\n",
        "    y_end += max_limit\n",
        "    if y_end > len(points): y_end = len(points)\n",
        "\n",
        "    print(\"Sleeping...\")\n",
        "    time.sleep(60)\n",
        "    print(\"Done Sleeping!!!\\n\")\n",
        "\n",
        "  if x_start == 0:\n",
        "    distances = row_distances\n",
        "    times = row_times\n",
        "    weights = row_weights\n",
        "  else:\n",
        "    distances = np.concatenate((distances, row_distances), axis=0)\n",
        "    times = np.concatenate((times, row_times), axis=0)\n",
        "    weights = np.concatenate((weights, row_weights), axis=0)\n",
        "\n",
        "  x_start = x_end\n",
        "  x_end += max_limit\n",
        "  if x_end > len(points): x_end = len(points)"
      ],
      "metadata": {
        "id": "CrHko7n46aCJ"
      },
      "execution_count": null,
      "outputs": []
    },
    {
      "cell_type": "code",
      "source": [
        "selected_tracts = [\"070600\", \"081900\", \"070400\", \"071800\", \"070500\", \"071000\", \"081100\", \"838300\", \"832500\", \"071100\", \"842200\", \"832600\", \"070700\", \"081000\", \"080400\", \"081300\", \"081401\", \"081201\", \"081600\", \"080300\", \"081500\", \"081800\", \"081700\", \"320100\"]\n",
        "hotspot_location = dict()\n",
        "\n",
        "selected_hotspot_dir = data_dir + \"/Hotspot Data/selected_hotspot_data.geojson\"\n",
        "selected_hotspot_df = gpd.read_file(selected_hotspot_dir)\n",
        "\n",
        "for i in range(len(selected_hotspot_df)):\n",
        "  hotspot = selected_hotspot_df.loc[i]\n",
        "  if (hotspot['tractce10'] in selected_tracts):\n",
        "    hotspot_location[hotspot['tractce10']] = str(hotspot.geometry.y) + \",\" + str(hotspot.geometry.x)\n",
        "\n",
        "print(len(hotspot_location))\n",
        "print(hotspot_location)"
      ],
      "metadata": {
        "colab": {
          "base_uri": "https://localhost:8080/"
        },
        "id": "fe4FKYuqYQ-H",
        "outputId": "d85df9cb-619f-4b6b-f7a6-b563dd7cdc2b"
      },
      "execution_count": null,
      "outputs": [
        {
          "output_type": "stream",
          "name": "stdout",
          "text": [
            "24\n",
            "{'842200': '41.90713568156853,-87.64842870043667', '080300': '41.908006897771145,-87.63564568940431', '320100': '41.88539433758617,-87.62330592653113', '081600': '41.89155180212583,-87.62883730798983', '081500': '41.892761665198236,-87.62626111746584', '832600': '41.91549444476824,-87.65225920135377', '838300': '41.90184648292641,-87.63870570473755', '070400': '41.92877467873304,-87.65646265727851', '832500': '41.92282026972684,-87.6629363037685', '071000': '41.92297727298006,-87.65554413988484', '071100': '41.92121299594485,-87.65083363019836', '081800': '41.892451515425996,-87.63665722669185', '081300': '41.89869663556963,-87.62133175487784', '081700': '41.89136879115512,-87.63178340069605', '070600': '41.927082572,-87.665160616', '071800': '41.9153651665873,-87.64724767535715', '081900': '41.89784405511628,-87.64231493472869', '080400': '41.90887687285336,-87.63985334238936', '081100': '41.90056518960464,-87.62897560123885', '081201': '41.898920801676056,-87.62650936444527', '081401': '41.89494674904615,-87.62088697632697', '081000': '41.90012071349642,-87.6322380256186', '070700': '41.92999698161115,-87.67275514139398', '070500': '41.93159102387029,-87.66091135201489'}\n"
          ]
        }
      ]
    },
    {
      "cell_type": "code",
      "source": [
        "with open (data_dir + \"/Census Data/census_tract_wise_locations.json\", 'r') as f:\n",
        "  data = json.load(f)\n",
        "\n",
        "hotspot_points = dict()\n",
        "for hotspot in selected_tracts:\n",
        "  hotspot_points[hotspot] = list()\n",
        "\n",
        "for hotspot in selected_tracts:\n",
        "  for loc in data[hotspot]:\n",
        "    hotspot_points[hotspot].append(str(loc['lat']) + \",\" + str(loc['lon']))"
      ],
      "metadata": {
        "id": "Fh9aX0d_afhu"
      },
      "execution_count": null,
      "outputs": []
    },
    {
      "cell_type": "code",
      "source": [
        "url = \"https://graphhopper.com/api/1/matrix\"\n",
        "count = 0\n",
        "\n",
        "avg_hotspot_data = dict()\n",
        "\n",
        "for hotspot in selected_tracts:\n",
        "  if (len(hotspot_points[hotspot]) <= 128):\n",
        "    continue\n",
        "\n",
        "  query = {\n",
        "        \"profile\": \"scooter_delivery\",\n",
        "        \"from_point\": [hotspot_location[hotspot]],\n",
        "        \"to_point\": hotspot_points[hotspot][0:160],\n",
        "        \"out_array\": [\"distances\",\"times\",\"weights\"],\n",
        "        \"fail_fast\": \"true\",\n",
        "        \"key\": \"212f91ea-5ad8-4c1b-937b-b10a5c5211fa\"\n",
        "  }\n",
        "  response = requests.get(url, params=query)\n",
        "  data = response.json()\n",
        "  print(data)\n",
        "  avg_hotspot_data[hotspot] = dict()\n",
        "  avg_hotspot_data[hotspot][\"distance\"] = sum(data['distances'][0])/len(data['distances'][0])\n",
        "  avg_hotspot_data[hotspot][\"time\"] = sum(data['times'][0])/len(data['times'][0])\n",
        "  count += len(hotspot_points[hotspot])\n",
        "\n",
        "  time.sleep(60)"
      ],
      "metadata": {
        "id": "iE2g9CiIdoa9"
      },
      "execution_count": null,
      "outputs": []
    },
    {
      "cell_type": "code",
      "source": [
        "avg_hotspot_location_data = dict()\n",
        "\n",
        "for hotspot in selected_tracts:\n",
        "  avg_hotspot_location_data[hotspot] = dict()"
      ],
      "metadata": {
        "id": "VK85Sr0dNyba"
      },
      "execution_count": null,
      "outputs": []
    },
    {
      "cell_type": "code",
      "source": [
        "url = \"https://graphhopper.com/api/1/matrix\"\n",
        "count = 0\n",
        "\n",
        "for hotspot in selected_tracts[-2:]:\n",
        "  max_limit = 80\n",
        "  points = hotspot_points[hotspot]\n",
        "\n",
        "  x_start = 0\n",
        "  x_end = max_limit\n",
        "  y_start = 0\n",
        "  y_end = max_limit\n",
        "\n",
        "  while x_start < len(points):\n",
        "    y_start = 0\n",
        "    y_end = max_limit\n",
        "\n",
        "    while y_start < len(points):\n",
        "\n",
        "      while (True):\n",
        "        query = {\n",
        "          \"profile\": \"scooter_delivery\",\n",
        "          \"from_point\": points[x_start:x_end],\n",
        "          \"to_point\": points[y_start:y_end],\n",
        "          \"out_array\": [\"distances\",\"times\",\"weights\"],\n",
        "          \"fail_fast\": \"true\",\n",
        "          \"key\": \"fc2f479f-5901-4152-9483-3f9fcb65c254\"\n",
        "        }\n",
        "\n",
        "        response = requests.get(url, params=query)\n",
        "        data = response.json()\n",
        "        print(data)\n",
        "        if 'message' in data.keys():\n",
        "          time.sleep(60)\n",
        "          continue\n",
        "        break\n",
        "\n",
        "      if y_start == 0:\n",
        "        row_distances = np.array(data['distances'])\n",
        "        row_times = np.array(data['times'])\n",
        "        row_weights = np.array(data['weights'])\n",
        "      else:\n",
        "        row_distances = np.concatenate((row_distances,np.array(data['distances'])), axis=1)\n",
        "        row_times = np.concatenate((row_times,np.array(data['times'])), axis=1)\n",
        "        row_weights = np.concatenate((row_weights,np.array(data['weights'])), axis=1)\n",
        "\n",
        "      y_start = y_end\n",
        "      y_end += max_limit\n",
        "      if y_end > len(points): y_end = len(points)\n",
        "\n",
        "    if x_start == 0:\n",
        "      distances = row_distances\n",
        "      times = row_times\n",
        "      weights = row_weights\n",
        "    else:\n",
        "      distances = np.concatenate((distances, row_distances), axis=0)\n",
        "      times = np.concatenate((times, row_times), axis=0)\n",
        "      weights = np.concatenate((weights, row_weights), axis=0)\n",
        "\n",
        "    x_start = x_end\n",
        "    x_end += max_limit\n",
        "    if x_end > len(points): x_end = len(points)\n",
        "\n",
        "  avg_hotspot_location_data[hotspot]['min_distance'] = int(np.min(distances[distances != 0]))\n",
        "  avg_hotspot_location_data[hotspot]['max_distance'] = int(np.max(distances))\n",
        "  avg_hotspot_location_data[hotspot]['mean_distance'] = float(np.sum(distances) / (len(points)*len(points) - len(points)))\n",
        "\n",
        "  avg_hotspot_location_data[hotspot]['min_time'] = int(np.min(times[times != 0]))\n",
        "  avg_hotspot_location_data[hotspot]['max_time'] = int(np.max(times))\n",
        "  avg_hotspot_location_data[hotspot]['mean_time'] = float(np.sum(times) / (len(points)*len(points) - len(points)))\n",
        "\n",
        "  print(hotspot)"
      ],
      "metadata": {
        "id": "hf9tbqg4Jd0n"
      },
      "execution_count": null,
      "outputs": []
    },
    {
      "cell_type": "code",
      "source": [
        "# keys = [\n",
        "#     'fc2f479f-5901-4152-9483-3f9fcb65c254',\n",
        "#     '6fd2d8f2-eefa-44a3-9fb7-4f0791ea27ba',\n",
        "#     'ff9d785c-c5d7-4623-afb2-66f42639f1cd',\n",
        "#     '4ff2a7e3-cc93-4084-ba93-d15f50207a3e',\n",
        "#     'd791af75-c946-4799-b5f5-b907f1a3b521'\n",
        "# ]\n",
        "\n",
        "keys = [\n",
        "    '8fb75536-2409-44ce-aa28-28a93f406dc8',\n",
        "    'fffc6cfc-4271-4543-80c6-eb961c6f420c',\n",
        "    '72afc622-533c-410b-8fe5-7bb20762035c',\n",
        "    '7a9ce153-fb5f-4cc6-b315-ed9395cf6209',\n",
        "    '11e7a49d-bf1c-4d4a-bd5e-c6754e7ef628',\n",
        "    '96d20088-b7c2-4069-ba01-579c1e7d4b20'\n",
        "]\n",
        "\n",
        "tract_to_new_index = {'842200': 0, '080300': 1, '320100': 2, '081600': 3, '081500': 4, '832600': 5, '838300': 6, '070400': 7, '832500': 8, '071000': 9, '071100': 10, '081800': 11, '081300': 12, '081700': 13, '070600': 14, '071800': 15, '081900': 16, '080400': 17, '081100': 18, '081201': 19, '081401': 20, '081000': 21, '070700': 22, '070500': 23}"
      ],
      "metadata": {
        "id": "DIn48couKKEK"
      },
      "execution_count": null,
      "outputs": []
    },
    {
      "cell_type": "code",
      "source": [
        "max_distance = np.zeros((24, 24))\n",
        "min_distance = np.zeros((24, 24))\n",
        "avg_distance = np.zeros((24, 24))\n",
        "\n",
        "max_time = np.zeros((24, 24))\n",
        "min_time = np.zeros((24, 24))\n",
        "avg_time = np.zeros((24, 24))"
      ],
      "metadata": {
        "id": "SnyioVLRVciU"
      },
      "execution_count": null,
      "outputs": []
    },
    {
      "cell_type": "code",
      "source": [
        "for i in range(len(selected_tracts)-5):\n",
        "  hotspot1 = selected_tracts[i]\n",
        "  points1 = hotspot_points[hotspot1]\n",
        "  index1 = tract_to_new_index[hotspot1]\n",
        "\n",
        "  for j in range(i+1,len(selected_tracts)-5):\n",
        "    hotspot2 = selected_tracts[j]\n",
        "    points2 = hotspot_points[hotspot2]\n",
        "    index2 = tract_to_new_index[hotspot2]\n",
        "\n",
        "    if (avg_distance[index1][index2] == 0):\n",
        "      continue\n",
        "    print(hotspot1, hotspot2)"
      ],
      "metadata": {
        "id": "qgkrxXRBoUfH"
      },
      "execution_count": null,
      "outputs": []
    },
    {
      "cell_type": "code",
      "source": [
        "url = \"https://graphhopper.com/api/1/matrix\"\n",
        "count = 0\n",
        "max_limit = 80\n",
        "index = 0\n",
        "\n",
        "for i in range(len(selected_tracts)-5):\n",
        "  hotspot1 = selected_tracts[i]\n",
        "  points1 = hotspot_points[hotspot1]\n",
        "  index1 = tract_to_new_index[hotspot1]\n",
        "\n",
        "  for j in range(i+1,len(selected_tracts)-5):\n",
        "    hotspot2 = selected_tracts[j]\n",
        "    points2 = hotspot_points[hotspot2]\n",
        "    index2 = tract_to_new_index[hotspot2]\n",
        "\n",
        "    if (avg_distance[index1][index2] == 0):\n",
        "      continue\n",
        "\n",
        "    x_start = 0\n",
        "    x_end = max_limit\n",
        "    y_start = 0\n",
        "    y_end = max_limit\n",
        "\n",
        "    while x_start < len(points1):\n",
        "      y_start = 0\n",
        "      y_end = max_limit\n",
        "\n",
        "      while y_start < len(points2):\n",
        "\n",
        "        while (True):\n",
        "          query = {\n",
        "            \"profile\": \"scooter_delivery\",\n",
        "            \"from_point\": points1[x_start:x_end],\n",
        "            \"to_point\": points2[y_start:y_end],\n",
        "            \"out_array\": [\"distances\",\"times\",\"weights\"],\n",
        "            \"fail_fast\": \"true\",\n",
        "            \"key\": keys[index]\n",
        "          }\n",
        "\n",
        "          response = requests.get(url, params=query)\n",
        "          data = response.json()\n",
        "          print(data)\n",
        "\n",
        "          if 'message' in data.keys():\n",
        "            if (index==len(keys)-1):\n",
        "              index = 0\n",
        "              time.sleep(60)\n",
        "              continue\n",
        "            else:\n",
        "              index += 1\n",
        "          else:\n",
        "            break\n",
        "\n",
        "        if y_start == 0:\n",
        "          row_distances = np.array(data['distances'])\n",
        "          row_times = np.array(data['times'])\n",
        "          row_weights = np.array(data['weights'])\n",
        "        else:\n",
        "          row_distances = np.concatenate((row_distances,np.array(data['distances'])), axis=1)\n",
        "          row_times = np.concatenate((row_times,np.array(data['times'])), axis=1)\n",
        "          row_weights = np.concatenate((row_weights,np.array(data['weights'])), axis=1)\n",
        "\n",
        "        y_start = y_end\n",
        "        y_end += max_limit\n",
        "        if y_end > len(points2): y_end = len(points2)\n",
        "\n",
        "      if x_start == 0:\n",
        "        distances = row_distances\n",
        "        times = row_times\n",
        "        weights = row_weights\n",
        "      else:\n",
        "        distances = np.concatenate((distances, row_distances), axis=0)\n",
        "        times = np.concatenate((times, row_times), axis=0)\n",
        "        weights = np.concatenate((weights, row_weights), axis=0)\n",
        "\n",
        "      x_start = x_end\n",
        "      x_end += max_limit\n",
        "      if x_end > len(points1): x_end = len(points1)\n",
        "\n",
        "    min_distance[index1][index2] = int(np.min(distances[distances != 0]))\n",
        "    max_distance[index1][index2] = int(np.max(distances))\n",
        "    avg_distance[index1][index2] = float(np.sum(distances) / (len(points1)* len(points2)))\n",
        "\n",
        "    min_time[index1][index2] = int(np.min(times[times != 0]))\n",
        "    max_time[index1][index2] = int(np.max(times))\n",
        "    avg_time[index1][index2] = float(np.sum(times) / (len(points1)* len(points2)))\n",
        "\n",
        "    min_distance[index2][index1] = min_distance[index1][index2]\n",
        "    max_distance[index2][index1] = max_distance[index1][index2]\n",
        "    avg_distance[index2][index1] = avg_distance[index1][index2]\n",
        "\n",
        "    min_time[index2][index1] = min_time[index1][index2]\n",
        "    max_time[index2][index1] = max_time[index1][index2]\n",
        "    avg_time[index2][index1] = avg_time[index1][index2]\n",
        "\n",
        "    print(hotspot1, hotspot2)"
      ],
      "metadata": {
        "id": "WIVNLSz6MD8R"
      },
      "execution_count": null,
      "outputs": []
    },
    {
      "cell_type": "code",
      "source": [
        "json_object = json.dumps(avg_hotspot_location_data, indent=4)\n",
        "\n",
        "with open (data_dir + \"/avg_hotspot_location_data.json\", 'w') as f:\n",
        "  f.write(json_object)"
      ],
      "metadata": {
        "id": "XYgEOXNVr4p8"
      },
      "execution_count": null,
      "outputs": []
    },
    {
      "cell_type": "code",
      "source": [
        "np.save(data_dir + \"/avg_distance_hotspot_location_data.npy\", avg_distance)\n",
        "np.save(data_dir + \"/avg_time_hotspot_location_data.npy\", avg_time)"
      ],
      "metadata": {
        "id": "Yq2Aer1XdomK"
      },
      "execution_count": null,
      "outputs": []
    },
    {
      "cell_type": "code",
      "source": [
        "np.save(data_dir + \"/min_distance_hotspot_location_data.npy\", min_distance)\n",
        "np.save(data_dir + \"/min_time_hotspot_location_data.npy\", min_time)"
      ],
      "metadata": {
        "id": "khyidg63e5-B"
      },
      "execution_count": null,
      "outputs": []
    },
    {
      "cell_type": "code",
      "source": [
        "np.save(data_dir + \"/max_distance_hotspot_location_data.npy\", max_distance)\n",
        "np.save(data_dir + \"/max_time_hotspot_location_data.npy\", max_time)"
      ],
      "metadata": {
        "id": "tVLzFcYWe8mW"
      },
      "execution_count": null,
      "outputs": []
    },
    {
      "cell_type": "code",
      "source": [
        "a = np.load(data_dir + \"/avg_distance_hotspot_location_data.npy\")"
      ],
      "metadata": {
        "id": "AwFiSE3shQER"
      },
      "execution_count": null,
      "outputs": []
    },
    {
      "cell_type": "code",
      "source": [
        "np.save(data_dir + \"/Hotspot Data/distance_adjacency_matrix.npy\", distances)\n",
        "np.save(data_dir + \"/Hotspot Data/time_adjacency_matrix.npy\", times)\n",
        "np.save(data_dir + \"/Hotspot Data/weight_adjacency_matrix.npy\", weights)"
      ],
      "metadata": {
        "id": "ESBdWBUugqXv"
      },
      "execution_count": null,
      "outputs": []
    },
    {
      "cell_type": "code",
      "source": [
        "a = np.load(data_dir + \"/Hotspot Data/distance_adjacency_matrix.npy\")\n",
        "max = 0\n",
        "for i in range(len(a)):\n",
        "  for j in range(len(a[0])):\n",
        "    if a[i][j] > max:\n",
        "      max = a[i][j]\n",
        "\n",
        "print(max)"
      ],
      "metadata": {
        "colab": {
          "base_uri": "https://localhost:8080/"
        },
        "id": "Y1QkFWsxD10G",
        "outputId": "63907cbd-c32b-45f3-cc1d-1bcc15c6a87b"
      },
      "execution_count": null,
      "outputs": [
        {
          "output_type": "stream",
          "name": "stdout",
          "text": [
            "17523\n"
          ]
        }
      ]
    },
    {
      "cell_type": "markdown",
      "source": [
        "# REFERENCES"
      ],
      "metadata": {
        "id": "2Pnt4gV2ahWf"
      }
    },
    {
      "cell_type": "markdown",
      "source": [
        "API Wiki Docs:\n",
        "1. [OSM Python Tools](https://github.com/mocnik-science/osm-python-tools) - Github Page for library documentation.\n",
        "2. [Overpass API Wiki](https://https://wiki.openstreetmap.org/wiki/Overpass_API) - Overpass API Language documentation wiki page.\n",
        "3. [Overpass Turbo](https://https://overpass-turbo.eu/) - Online editor to test queries.\n",
        "\n",
        "Open Street Map Wiki Docs:\n",
        "1. [Map Features](https://wiki.openstreetmap.org/wiki/Map_features)\n",
        "2. [Elements](https://wiki.openstreetmap.org/wiki/Elements)"
      ],
      "metadata": {
        "id": "ye6syTUcuKnO"
      }
    }
  ]
}